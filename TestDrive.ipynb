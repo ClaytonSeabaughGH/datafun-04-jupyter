{
 "cells": [
  {
   "cell_type": "code",
   "execution_count": 2,
   "metadata": {},
   "outputs": [
    {
     "name": "stdout",
     "output_type": "stream",
     "text": [
      "Hello, Jupyter!\n"
     ]
    }
   ],
   "source": [
    "print(\"Hello, Jupyter!\")"
   ]
  },
  {
   "cell_type": "code",
   "execution_count": 3,
   "metadata": {},
   "outputs": [
    {
     "data": {
      "text/plain": [
       "10"
      ]
     },
     "execution_count": 3,
     "metadata": {},
     "output_type": "execute_result"
    }
   ],
   "source": [
    "# Cell 1\n",
    "2+(3-1)*4"
   ]
  },
  {
   "cell_type": "code",
   "execution_count": 6,
   "metadata": {},
   "outputs": [
    {
     "name": "stdout",
     "output_type": "stream",
     "text": [
      "16\n",
      "17\n",
      "18\n",
      "19\n",
      "20\n",
      "21\n",
      "22\n",
      "23\n",
      "24\n"
     ]
    }
   ],
   "source": [
    "# Cell 2\n",
    "for number in range(16, 25):\n",
    "    print(number)"
   ]
  },
  {
   "cell_type": "code",
   "execution_count": 1,
   "metadata": {},
   "outputs": [
    {
     "name": "stdout",
     "output_type": "stream",
     "text": [
      "The minimum value is 4\n"
     ]
    }
   ],
   "source": [
    "# Cell 3\n",
    "'''Minimum Calculator of 3 values'''\n",
    "value1 = int(input('Enter First Number'))\n",
    "value2 = int(input('Enter Second Number'))\n",
    "value3 = int(input('Enter Third Number'))\n",
    "\n",
    "minimum = value1\n",
    "\n",
    "if value2 < minimum:\n",
    "    minimum = value2\n",
    "if value3 < minimum:\n",
    "    minimum = value3\n",
    "print(f\"The minimum value is {minimum}\")\n"
   ]
  },
  {
   "cell_type": "code",
   "execution_count": 2,
   "metadata": {},
   "outputs": [
    {
     "name": "stdout",
     "output_type": "stream",
     "text": [
      "Enter two integers and I will tell you the relationships they satisfy.\n",
      "57 does not equal 33\n",
      "57 is greater than 33\n",
      "33 is less than or equal to 57\n"
     ]
    }
   ],
   "source": [
    "# Cell 4\n",
    "'''Comparing integers using if else statements and comparison operators (Fromt the book)'''\n",
    "print('Enter two integers and I will tell you the relationships they satisfy.')\n",
    "\n",
    "# Read first integer\n",
    "number1 = int(input('Enter first integer:'))\n",
    "\n",
    "# Read second integer\n",
    "number2 = int(input('Enter second integer:'))\n",
    "\n",
    "# Equal to\n",
    "if number1 == number2:\n",
    "    print(f\"{number1} is equal to {number2}\")\n",
    "else: \n",
    "    print(f\"{number1} does not equal {number2}\")\n",
    "\n",
    "# Greater than \n",
    "if number1 > number2:\n",
    "    print(f\"{number1} is greater than {number2}\")\n",
    "else:\n",
    "    print(f\"{number2} is greater than {number1}\")\n",
    "\n",
    "# Less than or equal to\n",
    "if number1 <= number2:\n",
    "    print(f\"{number1} is less than or equal to {number2}\")\n",
    "else:\n",
    "    print(f\"{number2} is less than or equal to {number1}\")\n",
    "\n",
    "\n"
   ]
  },
  {
   "cell_type": "code",
   "execution_count": 7,
   "metadata": {},
   "outputs": [
    {
     "name": "stdout",
     "output_type": "stream",
     "text": [
      "5 4 3 3 2 6 4 6 3 4 "
     ]
    }
   ],
   "source": [
    "# Cell 5\n",
    "import random\n",
    "for roll in range(10):\n",
    "    print(random.randrange(1, 7), end=' ')"
   ]
  },
  {
   "cell_type": "code",
   "execution_count": 8,
   "metadata": {},
   "outputs": [
    {
     "name": "stdout",
     "output_type": "stream",
     "text": [
      "4\n"
     ]
    }
   ],
   "source": [
    "# Cell 6\n",
    "fish = 2+2\n",
    "print (fish)"
   ]
  },
  {
   "cell_type": "code",
   "execution_count": null,
   "metadata": {},
   "outputs": [],
   "source": []
  }
 ],
 "metadata": {
  "kernelspec": {
   "display_name": ".venv",
   "language": "python",
   "name": "python3"
  },
  "language_info": {
   "codemirror_mode": {
    "name": "ipython",
    "version": 3
   },
   "file_extension": ".py",
   "mimetype": "text/x-python",
   "name": "python",
   "nbconvert_exporter": "python",
   "pygments_lexer": "ipython3",
   "version": "3.12.5"
  }
 },
 "nbformat": 4,
 "nbformat_minor": 2
}
